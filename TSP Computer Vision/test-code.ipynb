{
 "cells": [
  {
   "cell_type": "code",
   "execution_count": 1,
   "id": "3602b7ac",
   "metadata": {
    "execution": {
     "iopub.execute_input": "2022-04-17T20:04:41.179831Z",
     "iopub.status.busy": "2022-04-17T20:04:41.178902Z",
     "iopub.status.idle": "2022-04-17T20:04:41.182945Z",
     "shell.execute_reply": "2022-04-17T20:04:41.182407Z",
     "shell.execute_reply.started": "2022-04-17T19:27:44.465664Z"
    },
    "papermill": {
     "duration": 0.030235,
     "end_time": "2022-04-17T20:04:41.183075",
     "exception": false,
     "start_time": "2022-04-17T20:04:41.152840",
     "status": "completed"
    },
    "tags": []
   },
   "outputs": [],
   "source": [
    "import numpy as np\n",
    "import pandas as pd\n",
    "import os\n",
    "\n",
    "PATH = \"/kaggle/input/tsp-cv\"\n",
    "PATH_TRAIN = os.path.join(PATH, \"train.csv\")"
   ]
  },
  {
   "cell_type": "code",
   "execution_count": 2,
   "id": "f3845c40",
   "metadata": {
    "execution": {
     "iopub.execute_input": "2022-04-17T20:04:41.219960Z",
     "iopub.status.busy": "2022-04-17T20:04:41.219416Z",
     "iopub.status.idle": "2022-04-17T20:04:48.997701Z",
     "shell.execute_reply": "2022-04-17T20:04:48.997061Z",
     "shell.execute_reply.started": "2022-04-17T19:27:49.359426Z"
    },
    "papermill": {
     "duration": 7.797755,
     "end_time": "2022-04-17T20:04:48.997859",
     "exception": false,
     "start_time": "2022-04-17T20:04:41.200104",
     "status": "completed"
    },
    "tags": []
   },
   "outputs": [
    {
     "name": "stdout",
     "output_type": "stream",
     "text": [
      "Tensor Flow Version: 2.6.2\n",
      "Keras Version: 2.6.0\n",
      "\n",
      "Python 3.7.12 | packaged by conda-forge | (default, Oct 26 2021, 06:08:53) \n",
      "[GCC 9.4.0]\n",
      "Pandas 1.3.5\n",
      "Scikit-Learn 1.0.1\n",
      "GPU is available\n"
     ]
    },
    {
     "name": "stderr",
     "output_type": "stream",
     "text": [
      "2022-04-17 20:04:46.977977: I tensorflow/core/platform/cpu_feature_guard.cc:142] This TensorFlow binary is optimized with oneAPI Deep Neural Network Library (oneDNN) to use the following CPU instructions in performance-critical operations:  AVX2 AVX512F FMA\n",
      "To enable them in other operations, rebuild TensorFlow with the appropriate compiler flags.\n",
      "2022-04-17 20:04:47.046363: I tensorflow/stream_executor/cuda/cuda_gpu_executor.cc:937] successful NUMA node read from SysFS had negative value (-1), but there must be at least one NUMA node, so returning NUMA node zero\n",
      "2022-04-17 20:04:47.142813: I tensorflow/stream_executor/cuda/cuda_gpu_executor.cc:937] successful NUMA node read from SysFS had negative value (-1), but there must be at least one NUMA node, so returning NUMA node zero\n",
      "2022-04-17 20:04:47.143605: I tensorflow/stream_executor/cuda/cuda_gpu_executor.cc:937] successful NUMA node read from SysFS had negative value (-1), but there must be at least one NUMA node, so returning NUMA node zero\n",
      "2022-04-17 20:04:48.982592: I tensorflow/stream_executor/cuda/cuda_gpu_executor.cc:937] successful NUMA node read from SysFS had negative value (-1), but there must be at least one NUMA node, so returning NUMA node zero\n",
      "2022-04-17 20:04:48.983424: I tensorflow/stream_executor/cuda/cuda_gpu_executor.cc:937] successful NUMA node read from SysFS had negative value (-1), but there must be at least one NUMA node, so returning NUMA node zero\n",
      "2022-04-17 20:04:48.984109: I tensorflow/stream_executor/cuda/cuda_gpu_executor.cc:937] successful NUMA node read from SysFS had negative value (-1), but there must be at least one NUMA node, so returning NUMA node zero\n",
      "2022-04-17 20:04:48.984712: I tensorflow/core/common_runtime/gpu/gpu_device.cc:1510] Created device /device:GPU:0 with 15403 MB memory:  -> device: 0, name: Tesla P100-PCIE-16GB, pci bus id: 0000:00:04.0, compute capability: 6.0\n"
     ]
    }
   ],
   "source": [
    "# What version of Python do you have?\n",
    "import sys\n",
    "\n",
    "import tensorflow.keras\n",
    "import pandas as pd\n",
    "import sklearn as sk\n",
    "import tensorflow as tf\n",
    "\n",
    "print(f\"Tensor Flow Version: {tf.__version__}\")\n",
    "print(f\"Keras Version: {tensorflow.keras.__version__}\")\n",
    "print()\n",
    "print(f\"Python {sys.version}\")\n",
    "print(f\"Pandas {pd.__version__}\")\n",
    "print(f\"Scikit-Learn {sk.__version__}\")\n",
    "print(\"GPU is\", \"available\" if tf.test.is_gpu_available() \\\n",
    "      else \"NOT AVAILABLE\")"
   ]
  },
  {
   "cell_type": "code",
   "execution_count": 3,
   "id": "3fed032b",
   "metadata": {
    "execution": {
     "iopub.execute_input": "2022-04-17T20:04:49.035325Z",
     "iopub.status.busy": "2022-04-17T20:04:49.034642Z",
     "iopub.status.idle": "2022-04-17T20:04:49.057048Z",
     "shell.execute_reply": "2022-04-17T20:04:49.056627Z",
     "shell.execute_reply.started": "2022-04-17T19:27:52.945094Z"
    },
    "papermill": {
     "duration": 0.042177,
     "end_time": "2022-04-17T20:04:49.057173",
     "exception": false,
     "start_time": "2022-04-17T20:04:49.014996",
     "status": "completed"
    },
    "tags": []
   },
   "outputs": [],
   "source": [
    "df_train = pd.read_csv(PATH_TRAIN)"
   ]
  },
  {
   "cell_type": "code",
   "execution_count": 4,
   "id": "44e91740",
   "metadata": {
    "execution": {
     "iopub.execute_input": "2022-04-17T20:04:49.093102Z",
     "iopub.status.busy": "2022-04-17T20:04:49.092559Z",
     "iopub.status.idle": "2022-04-17T20:04:49.102906Z",
     "shell.execute_reply": "2022-04-17T20:04:49.102440Z",
     "shell.execute_reply.started": "2022-04-17T19:52:34.916091Z"
    },
    "papermill": {
     "duration": 0.029725,
     "end_time": "2022-04-17T20:04:49.103012",
     "exception": false,
     "start_time": "2022-04-17T20:04:49.073287",
     "status": "completed"
    },
    "tags": []
   },
   "outputs": [],
   "source": [
    "PATH_test = os.path.join(PATH, \"test.csv\")\n",
    "df_test = pd.read_csv(PATH_test)"
   ]
  },
  {
   "cell_type": "code",
   "execution_count": 5,
   "id": "48be9a46",
   "metadata": {
    "execution": {
     "iopub.execute_input": "2022-04-17T20:04:49.140156Z",
     "iopub.status.busy": "2022-04-17T20:04:49.139573Z",
     "iopub.status.idle": "2022-04-17T20:04:49.142505Z",
     "shell.execute_reply": "2022-04-17T20:04:49.143065Z",
     "shell.execute_reply.started": "2022-04-17T19:27:54.253797Z"
    },
    "papermill": {
     "duration": 0.024349,
     "end_time": "2022-04-17T20:04:49.143236",
     "exception": false,
     "start_time": "2022-04-17T20:04:49.118887",
     "status": "completed"
    },
    "tags": []
   },
   "outputs": [
    {
     "name": "stdout",
     "output_type": "stream",
     "text": [
      "Training size: 14416\n",
      "Validate size: 1602\n"
     ]
    }
   ],
   "source": [
    "TRAIN_PCT = 0.9\n",
    "TRAIN_CUT = int(len(df_train) * TRAIN_PCT)\n",
    "\n",
    "df_train_cut = df_train[0:TRAIN_CUT]\n",
    "df_validate_cut = df_train[TRAIN_CUT:]\n",
    "\n",
    "print(f\"Training size: {len(df_train_cut)}\")\n",
    "print(f\"Validate size: {len(df_validate_cut)}\")"
   ]
  },
  {
   "cell_type": "code",
   "execution_count": null,
   "id": "e8558aee",
   "metadata": {
    "papermill": {
     "duration": 0.015663,
     "end_time": "2022-04-17T20:04:49.176173",
     "exception": false,
     "start_time": "2022-04-17T20:04:49.160510",
     "status": "completed"
    },
    "tags": []
   },
   "outputs": [],
   "source": []
  },
  {
   "cell_type": "code",
   "execution_count": 6,
   "id": "9060db93",
   "metadata": {
    "execution": {
     "iopub.execute_input": "2022-04-17T20:04:49.247458Z",
     "iopub.status.busy": "2022-04-17T20:04:49.246844Z",
     "iopub.status.idle": "2022-04-17T20:04:55.811528Z",
     "shell.execute_reply": "2022-04-17T20:04:55.811925Z",
     "shell.execute_reply.started": "2022-04-17T19:27:57.561776Z"
    },
    "papermill": {
     "duration": 6.587907,
     "end_time": "2022-04-17T20:04:55.812088",
     "exception": false,
     "start_time": "2022-04-17T20:04:49.224181",
     "status": "completed"
    },
    "tags": []
   },
   "outputs": [
    {
     "name": "stdout",
     "output_type": "stream",
     "text": [
      "Found 14416 validated image filenames.\n",
      "Found 1602 validated image filenames.\n"
     ]
    }
   ],
   "source": [
    "import tensorflow as tf\n",
    "import keras_preprocessing\n",
    "from keras_preprocessing import image\n",
    "from keras_preprocessing.image import ImageDataGenerator\n",
    "\n",
    "WIDTH = 256\n",
    "HEIGHT = 256\n",
    "\n",
    "training_datagen = ImageDataGenerator(\n",
    "  rescale = 1./255,\n",
    "  horizontal_flip=True,\n",
    "  #vertical_flip=True,\n",
    "  fill_mode='nearest')\n",
    "\n",
    "train_generator = training_datagen.flow_from_dataframe(\n",
    "        dataframe=df_train_cut,\n",
    "        directory=PATH,\n",
    "        x_col=\"filename\",\n",
    "        y_col=\"distance\",\n",
    "        target_size=(HEIGHT, WIDTH),\n",
    "        batch_size=32, \n",
    "        class_mode='raw')\n",
    "\n",
    "validation_datagen = ImageDataGenerator(rescale = 1./255)\n",
    "\n",
    "val_generator = validation_datagen.flow_from_dataframe(\n",
    "        dataframe=df_validate_cut,\n",
    "        directory=PATH,\n",
    "        x_col=\"filename\",\n",
    "        y_col=\"distance\",\n",
    "        target_size=(HEIGHT, WIDTH),\n",
    "        batch_size=256, \n",
    "        class_mode='raw')"
   ]
  },
  {
   "cell_type": "markdown",
   "id": "ef2489fa",
   "metadata": {
    "papermill": {
     "duration": 0.016241,
     "end_time": "2022-04-17T20:04:55.914153",
     "exception": false,
     "start_time": "2022-04-17T20:04:55.897912",
     "status": "completed"
    },
    "tags": []
   },
   "source": [
    "## Transfer Learning\n",
    "\n",
    "We will now use a ResNet neural network as a basis for our neural network.  We will redefine both the input shape and output of the ResNet model, so we will not transfer the weights.  "
   ]
  },
  {
   "cell_type": "code",
   "execution_count": 7,
   "id": "ebbf901c",
   "metadata": {
    "execution": {
     "iopub.execute_input": "2022-04-17T20:04:55.952392Z",
     "iopub.status.busy": "2022-04-17T20:04:55.951622Z",
     "iopub.status.idle": "2022-04-17T20:04:57.134956Z",
     "shell.execute_reply": "2022-04-17T20:04:57.135433Z",
     "shell.execute_reply.started": "2022-04-17T19:28:04.386795Z"
    },
    "papermill": {
     "duration": 1.204888,
     "end_time": "2022-04-17T20:04:57.135612",
     "exception": false,
     "start_time": "2022-04-17T20:04:55.930724",
     "status": "completed"
    },
    "tags": []
   },
   "outputs": [
    {
     "name": "stderr",
     "output_type": "stream",
     "text": [
      "2022-04-17 20:04:55.990690: I tensorflow/stream_executor/cuda/cuda_gpu_executor.cc:937] successful NUMA node read from SysFS had negative value (-1), but there must be at least one NUMA node, so returning NUMA node zero\n",
      "2022-04-17 20:04:55.991575: I tensorflow/stream_executor/cuda/cuda_gpu_executor.cc:937] successful NUMA node read from SysFS had negative value (-1), but there must be at least one NUMA node, so returning NUMA node zero\n",
      "2022-04-17 20:04:55.992217: I tensorflow/stream_executor/cuda/cuda_gpu_executor.cc:937] successful NUMA node read from SysFS had negative value (-1), but there must be at least one NUMA node, so returning NUMA node zero\n",
      "2022-04-17 20:04:55.993050: I tensorflow/stream_executor/cuda/cuda_gpu_executor.cc:937] successful NUMA node read from SysFS had negative value (-1), but there must be at least one NUMA node, so returning NUMA node zero\n",
      "2022-04-17 20:04:55.993712: I tensorflow/stream_executor/cuda/cuda_gpu_executor.cc:937] successful NUMA node read from SysFS had negative value (-1), but there must be at least one NUMA node, so returning NUMA node zero\n",
      "2022-04-17 20:04:55.994313: I tensorflow/stream_executor/cuda/cuda_gpu_executor.cc:937] successful NUMA node read from SysFS had negative value (-1), but there must be at least one NUMA node, so returning NUMA node zero\n",
      "2022-04-17 20:04:55.994983: I tensorflow/stream_executor/cuda/cuda_gpu_executor.cc:937] successful NUMA node read from SysFS had negative value (-1), but there must be at least one NUMA node, so returning NUMA node zero\n",
      "2022-04-17 20:04:55.995653: I tensorflow/stream_executor/cuda/cuda_gpu_executor.cc:937] successful NUMA node read from SysFS had negative value (-1), but there must be at least one NUMA node, so returning NUMA node zero\n",
      "2022-04-17 20:04:55.996268: I tensorflow/core/common_runtime/gpu/gpu_device.cc:1510] Created device /job:localhost/replica:0/task:0/device:GPU:0 with 15403 MB memory:  -> device: 0, name: Tesla P100-PCIE-16GB, pci bus id: 0000:00:04.0, compute capability: 6.0\n"
     ]
    }
   ],
   "source": [
    "from tensorflow.keras.applications.resnet50 import ResNet50\n",
    "from tensorflow.keras.layers import Input\n",
    "\n",
    "input_tensor = Input(shape=(HEIGHT, WIDTH, 3))\n",
    "\n",
    "base_model = ResNet50(\n",
    "    include_top=False, weights=None, input_tensor=input_tensor,\n",
    "    input_shape=None)\n",
    "\n",
    "#base_model.summary()"
   ]
  },
  {
   "cell_type": "code",
   "execution_count": 8,
   "id": "10745fa6",
   "metadata": {
    "execution": {
     "iopub.execute_input": "2022-04-17T20:04:57.209183Z",
     "iopub.status.busy": "2022-04-17T20:04:57.208312Z",
     "iopub.status.idle": "2022-04-17T20:04:57.240197Z",
     "shell.execute_reply": "2022-04-17T20:04:57.239792Z",
     "shell.execute_reply.started": "2022-04-17T19:28:09.588400Z"
    },
    "papermill": {
     "duration": 0.053638,
     "end_time": "2022-04-17T20:04:57.240308",
     "exception": false,
     "start_time": "2022-04-17T20:04:57.186670",
     "status": "completed"
    },
    "tags": []
   },
   "outputs": [],
   "source": [
    "from tensorflow.keras.layers import Dense, GlobalAveragePooling2D\n",
    "from tensorflow.keras.models import Model\n",
    "\n",
    "x=base_model.output\n",
    "x=GlobalAveragePooling2D()(x)\n",
    "x=Dense(1024,activation='relu')(x) \n",
    "x=Dense(1024,activation='relu')(x) \n",
    "model=Model(inputs=base_model.input,outputs=Dense(1)(x))"
   ]
  },
  {
   "cell_type": "code",
   "execution_count": 9,
   "id": "b1f726b2",
   "metadata": {
    "execution": {
     "iopub.execute_input": "2022-04-17T20:04:57.314121Z",
     "iopub.status.busy": "2022-04-17T20:04:57.313280Z",
     "iopub.status.idle": "2022-04-17T20:20:12.474262Z",
     "shell.execute_reply": "2022-04-17T20:20:12.473627Z",
     "shell.execute_reply.started": "2022-04-17T19:28:13.434817Z"
    },
    "papermill": {
     "duration": 915.183522,
     "end_time": "2022-04-17T20:20:12.474424",
     "exception": false,
     "start_time": "2022-04-17T20:04:57.290902",
     "status": "completed"
    },
    "tags": []
   },
   "outputs": [
    {
     "name": "stderr",
     "output_type": "stream",
     "text": [
      "2022-04-17 20:04:57.784896: I tensorflow/compiler/mlir/mlir_graph_optimization_pass.cc:185] None of the MLIR Optimization Passes are enabled (registered 2)\n"
     ]
    },
    {
     "name": "stdout",
     "output_type": "stream",
     "text": [
      "Epoch 1/100\n"
     ]
    },
    {
     "name": "stderr",
     "output_type": "stream",
     "text": [
      "2022-04-17 20:05:03.573881: I tensorflow/stream_executor/cuda/cuda_dnn.cc:369] Loaded cuDNN version 8005\n"
     ]
    },
    {
     "name": "stdout",
     "output_type": "stream",
     "text": [
      "50/50 [==============================] - 57s 916ms/step - loss: 411571040.0000 - rmse: 20287.2129 - val_loss: 69000552448.0000 - val_rmse: 262679.5625\n",
      "Epoch 2/100\n",
      "50/50 [==============================] - 36s 715ms/step - loss: 118501824.0000 - rmse: 10885.8545 - val_loss: 1870177280.0000 - val_rmse: 43245.5469\n",
      "Epoch 3/100\n",
      "50/50 [==============================] - 35s 696ms/step - loss: 91910776.0000 - rmse: 9587.0107 - val_loss: 650313024.0000 - val_rmse: 25501.2363\n",
      "Epoch 4/100\n",
      "50/50 [==============================] - 34s 687ms/step - loss: 107847976.0000 - rmse: 10384.9883 - val_loss: 742528192.0000 - val_rmse: 27249.3711\n",
      "Epoch 5/100\n",
      "50/50 [==============================] - 33s 663ms/step - loss: 74490712.0000 - rmse: 8630.7998 - val_loss: 764117952.0000 - val_rmse: 27642.6836\n",
      "Epoch 6/100\n",
      "50/50 [==============================] - 34s 670ms/step - loss: 93158304.0000 - rmse: 9651.8545 - val_loss: 779038528.0000 - val_rmse: 27911.2617\n",
      "Epoch 7/100\n",
      "50/50 [==============================] - 33s 663ms/step - loss: 80485040.0000 - rmse: 8971.3457 - val_loss: 723527104.0000 - val_rmse: 26898.4590\n",
      "Epoch 8/100\n",
      "50/50 [==============================] - 33s 655ms/step - loss: 75341096.0000 - rmse: 8679.9248 - val_loss: 671516608.0000 - val_rmse: 25913.6367\n",
      "Epoch 9/100\n",
      "50/50 [==============================] - 33s 657ms/step - loss: 98133200.0000 - rmse: 9906.2207 - val_loss: 539422208.0000 - val_rmse: 23225.4648\n",
      "Epoch 10/100\n",
      "50/50 [==============================] - 32s 644ms/step - loss: 80928472.0000 - rmse: 8996.0254 - val_loss: 1318570557440.0000 - val_rmse: 1148290.2500\n",
      "Epoch 11/100\n",
      "50/50 [==============================] - 32s 651ms/step - loss: 95490704.0000 - rmse: 9771.9346 - val_loss: 1002601472.0000 - val_rmse: 31663.8828\n",
      "Epoch 12/100\n",
      "50/50 [==============================] - 32s 631ms/step - loss: 62596576.0000 - rmse: 7911.7998 - val_loss: 36916781056.0000 - val_rmse: 192137.4062\n",
      "Epoch 13/100\n",
      "50/50 [==============================] - 32s 636ms/step - loss: 64351252.0000 - rmse: 8021.9233 - val_loss: 896301568.0000 - val_rmse: 29938.2969\n",
      "Epoch 14/100\n",
      "50/50 [==============================] - 31s 629ms/step - loss: 42746316.0000 - rmse: 6538.0669 - val_loss: 12922293.0000 - val_rmse: 3594.7590\n",
      "Epoch 15/100\n",
      "50/50 [==============================] - 32s 641ms/step - loss: 59486176.0000 - rmse: 7712.7280 - val_loss: 189158224.0000 - val_rmse: 13753.4805\n",
      "Epoch 16/100\n",
      "50/50 [==============================] - 31s 629ms/step - loss: 51348460.0000 - rmse: 7165.7842 - val_loss: 62103020.0000 - val_rmse: 7880.5469\n",
      "Epoch 17/100\n",
      "50/50 [==============================] - 31s 625ms/step - loss: 48023392.0000 - rmse: 6929.8911 - val_loss: 17689064.0000 - val_rmse: 4205.8369\n",
      "Epoch 18/100\n",
      "50/50 [==============================] - 31s 617ms/step - loss: 37102424.0000 - rmse: 6091.1758 - val_loss: 58931748.0000 - val_rmse: 7676.7017\n",
      "Epoch 19/100\n",
      "50/50 [==============================] - 32s 630ms/step - loss: 45138032.0000 - rmse: 6718.4844 - val_loss: 526247040.0000 - val_rmse: 22940.0742\n",
      "Epoch 20/100\n",
      "50/50 [==============================] - 31s 626ms/step - loss: 55169772.0000 - rmse: 7427.6357 - val_loss: 1257635968.0000 - val_rmse: 35463.1641\n",
      "Epoch 21/100\n",
      "50/50 [==============================] - 32s 647ms/step - loss: 41814488.0000 - rmse: 6466.4121 - val_loss: 3288848384.0000 - val_rmse: 57348.4805\n",
      "Epoch 22/100\n",
      "50/50 [==============================] - 31s 626ms/step - loss: 52852420.0000 - rmse: 7269.9668 - val_loss: 604318336.0000 - val_rmse: 24582.8867\n",
      "Epoch 23/100\n",
      "50/50 [==============================] - 31s 626ms/step - loss: 43985660.0000 - rmse: 6632.1685 - val_loss: 93561752.0000 - val_rmse: 9672.7324\n",
      "Epoch 24/100\n",
      "50/50 [==============================] - 31s 619ms/step - loss: 30761570.0000 - rmse: 5546.3115 - val_loss: 1539984512.0000 - val_rmse: 39242.6367\n",
      "Restoring model weights from the end of the best epoch.\n",
      "Epoch 00024: early stopping\n"
     ]
    }
   ],
   "source": [
    "from tensorflow.keras.callbacks import EarlyStopping\n",
    "from tensorflow.keras.metrics import RootMeanSquaredError\n",
    "\n",
    "# Important, calculate a valid step size for the validation dataset\n",
    "STEP_SIZE_VALID=val_generator.n//val_generator.batch_size\n",
    "\n",
    "model.compile(loss = 'mean_squared_error', optimizer='adam', metrics=[RootMeanSquaredError(name=\"rmse\")])\n",
    "monitor = EarlyStopping(monitor='val_loss', min_delta=1e-3, patience=10, verbose=1, mode='auto',\n",
    "        restore_best_weights=True)\n",
    "\n",
    "history = model.fit(train_generator, epochs=100, steps_per_epoch=50, \n",
    "                    validation_data = val_generator, callbacks=[monitor],\n",
    "                    verbose = 1, validation_steps=STEP_SIZE_VALID)"
   ]
  },
  {
   "cell_type": "code",
   "execution_count": 10,
   "id": "5279557e",
   "metadata": {
    "execution": {
     "iopub.execute_input": "2022-04-17T20:20:13.311901Z",
     "iopub.status.busy": "2022-04-17T20:20:13.304047Z",
     "iopub.status.idle": "2022-04-17T20:21:22.616699Z",
     "shell.execute_reply": "2022-04-17T20:21:22.617123Z",
     "shell.execute_reply.started": "2022-04-17T19:52:52.549253Z"
    },
    "papermill": {
     "duration": 69.722495,
     "end_time": "2022-04-17T20:21:22.617302",
     "exception": false,
     "start_time": "2022-04-17T20:20:12.894807",
     "status": "completed"
    },
    "tags": []
   },
   "outputs": [
    {
     "name": "stdout",
     "output_type": "stream",
     "text": [
      "Found 4005 validated image filenames.\n"
     ]
    }
   ],
   "source": [
    "submit_datagen = ImageDataGenerator(rescale = 1./255)\n",
    "\n",
    "submit_generator = submit_datagen.flow_from_dataframe(\n",
    "        dataframe=df_test,\n",
    "        directory=PATH,\n",
    "        x_col=\"filename\",\n",
    "        batch_size = 1,\n",
    "        shuffle = False,\n",
    "        target_size=(HEIGHT, WIDTH),\n",
    "        class_mode=None)\n",
    "\n",
    "submit_generator.reset()\n",
    "pred = model.predict(submit_generator,steps=len(df_test))"
   ]
  },
  {
   "cell_type": "code",
   "execution_count": 11,
   "id": "d78700f5",
   "metadata": {
    "execution": {
     "iopub.execute_input": "2022-04-17T20:21:23.419442Z",
     "iopub.status.busy": "2022-04-17T20:21:23.418869Z",
     "iopub.status.idle": "2022-04-17T20:21:23.422004Z",
     "shell.execute_reply": "2022-04-17T20:21:23.422412Z",
     "shell.execute_reply.started": "2022-04-17T19:55:01.063542Z"
    },
    "papermill": {
     "duration": 0.408787,
     "end_time": "2022-04-17T20:21:23.422560",
     "exception": false,
     "start_time": "2022-04-17T20:21:23.013773",
     "status": "completed"
    },
    "tags": []
   },
   "outputs": [
    {
     "data": {
      "text/plain": [
       "array([[ 8544.627],\n",
       "       [59375.793],\n",
       "       [11630.045],\n",
       "       ...,\n",
       "       [13292.574],\n",
       "       [15693.588],\n",
       "       [11921.466]], dtype=float32)"
      ]
     },
     "execution_count": 11,
     "metadata": {},
     "output_type": "execute_result"
    }
   ],
   "source": [
    "pred"
   ]
  },
  {
   "cell_type": "code",
   "execution_count": 12,
   "id": "69d20eba",
   "metadata": {
    "execution": {
     "iopub.execute_input": "2022-04-17T20:21:24.491172Z",
     "iopub.status.busy": "2022-04-17T20:21:24.490293Z",
     "iopub.status.idle": "2022-04-17T20:21:24.504633Z",
     "shell.execute_reply": "2022-04-17T20:21:24.504112Z"
    },
    "papermill": {
     "duration": 0.420166,
     "end_time": "2022-04-17T20:21:24.504763",
     "exception": false,
     "start_time": "2022-04-17T20:21:24.084597",
     "status": "completed"
    },
    "tags": []
   },
   "outputs": [],
   "source": [
    "df_submit = pd.DataFrame({\"id\":df_test['id'],'distance':pred[:,0].flatten()})\n",
    "df_submit.to_csv(\"./resnet50.csv\",index = False)"
   ]
  },
  {
   "cell_type": "markdown",
   "id": "edf600dd",
   "metadata": {
    "papermill": {
     "duration": 0.399378,
     "end_time": "2022-04-17T20:21:25.302266",
     "exception": false,
     "start_time": "2022-04-17T20:21:24.902888",
     "status": "completed"
    },
    "tags": []
   },
   "source": []
  }
 ],
 "metadata": {
  "kernelspec": {
   "display_name": "Python 3",
   "language": "python",
   "name": "python3"
  },
  "language_info": {
   "codemirror_mode": {
    "name": "ipython",
    "version": 3
   },
   "file_extension": ".py",
   "mimetype": "text/x-python",
   "name": "python",
   "nbconvert_exporter": "python",
   "pygments_lexer": "ipython3",
   "version": "3.7.12"
  },
  "papermill": {
   "default_parameters": {},
   "duration": 1017.03689,
   "end_time": "2022-04-17T20:21:29.372177",
   "environment_variables": {},
   "exception": null,
   "input_path": "__notebook__.ipynb",
   "output_path": "__notebook__.ipynb",
   "parameters": {},
   "start_time": "2022-04-17T20:04:32.335287",
   "version": "2.3.3"
  }
 },
 "nbformat": 4,
 "nbformat_minor": 5
}
